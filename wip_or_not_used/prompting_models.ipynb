{
 "cells": [
  {
   "cell_type": "markdown",
   "id": "8baddf5f",
   "metadata": {},
   "source": [
    "## Currently, this file will not be used until I can find a better way to use it."
   ]
  },
  {
   "cell_type": "code",
   "execution_count": null,
   "id": "f2c3f555",
   "metadata": {},
   "outputs": [],
   "source": [
    "#tokenizer = AutoTokenizer.from_pretrained(model_path)\n",
    "    #model = AutoModelForMaskedLM.from_pretrained(model_path, attn_implementation=\"eager\")\n",
    "    #assamese_tokens = tokenizer(masked_texts, padding=\"longest\", return_tensors=\"pt\")\n",
    "    #outputs = model(assamese_tokens[\"input_ids\"],assamese_tokens[\"attention_mask\" ],  output_attentions=True) \n",
    "    "
   ]
  },
  {
   "cell_type": "code",
   "execution_count": 2,
   "id": "91e48936",
   "metadata": {},
   "outputs": [],
   "source": [
    "import http.client\n",
    "\n",
    "conn = http.client.HTTPSConnection(\"api.two.ai\")\n",
    "\n",
    "conn.request(\"GET\", \"/health\")\n",
    "\n",
    "res = conn.getresponse()\n",
    "data = res.read()"
   ]
  },
  {
   "cell_type": "code",
   "execution_count": 3,
   "id": "42677235",
   "metadata": {},
   "outputs": [],
   "source": [
    "kfile = open(\"access_items/sutra_api_key.txt\", \"r\")\n",
    "sutra_key = kfile.readline()\n",
    "kfile.close()"
   ]
  },
  {
   "cell_type": "code",
   "execution_count": 7,
   "id": "b2981c8c",
   "metadata": {},
   "outputs": [
    {
     "name": "stdout",
     "output_type": "stream",
     "text": [
      "{\n",
      "  \"model\": \"sutra-v2\",\n",
      "  \"messages\": [\n",
      "    {\n",
      "      \"role\": \"system\",\n",
      "      \"content\": \"Perform a cloze task.\"\n",
      "    },\n",
      "    {\n",
      "      \"role\": \"user\",\n",
      "      \"content\": \"পৃথিৱীখন ইমান <mask>.\"\n",
      "    }\n",
      "  ],\n",
      "  \"max_tokens\": 100,\n",
      "  \"echo\": true,\n",
      "  \"logprobs\": 1,\n",
      "  \"temperature\": 0.3,\n",
      "  \"stream\": false,\n",
      "  \"extra_body\": {\n",
      "    \"online_search\": false\n",
      "  }\n",
      "}\n",
      "{\"id\":\"prjaKym93r1LK3ys6yTpGn\",\"object\":\"chat.completion\",\"created\":1745798018,\"model\":\"sutra-v2\",\"choices\":[{\"index\":0,\"message\":{\"role\":\"assistant\",\"content\":\"পৃথিৱীখন ইমান সুন্দৰ।\",\"refusal\":null,\"annotations\":[]},\"logprobs\":null,\"finish_reason\":\"stop\"}]}\n"
     ]
    }
   ],
   "source": [
    "import http.client\n",
    "\n",
    "conn = http.client.HTTPSConnection(\"api.two.ai\")\n",
    "\n",
    "payload = (\"{\\n  \\\"model\\\": \\\"sutra-v2\\\",\\n\"\n",
    "            +\"  \\\"messages\\\": [\\n    {\\n      \\\"role\\\": \\\"system\\\",\\n\"\n",
    "            + \"      \\\"content\\\": \\\"Perform a cloze task.\\\"\\n    },\\n  \" \n",
    "            + \"  {\\n      \\\"role\\\": \\\"user\\\",\\n\"\n",
    "            + \"      \\\"content\\\": \\\"পৃথিৱীখন ইমান <mask>.\\\"\\n    }\\n  ],\\n  \"\n",
    "            + \"\\\"max_tokens\\\": 100,\\n  \\\"echo\\\": true,\\n  \\\"logprobs\\\": 1,\\n  \\\"temperature\\\": 0.3,\\n  \\\"stream\\\": false,\\n  \\\"extra_body\\\": {\\n    \\\"online_search\\\": false\\n  }\\n}\")\n",
    "\n",
    "print(payload)\n",
    "\n",
    "payload = payload.encode('utf-8')\n",
    "\n",
    "headers = { 'Content-Type': \"application/json\", \"Authorization\": sutra_key }\n",
    "\n",
    "conn.request(\"POST\", \"/v2/chat/completions\", payload, headers)\n",
    "\n",
    "res = conn.getresponse()\n",
    "data = res.read()\n",
    "\n",
    "print(data.decode(\"utf-8\"))"
   ]
  },
  {
   "cell_type": "code",
   "execution_count": 33,
   "id": "d85435e9",
   "metadata": {},
   "outputs": [
    {
     "name": "stderr",
     "output_type": "stream",
     "text": [
      "Some weights of the model checkpoint at FacebookAI/xlm-roberta-base were not used when initializing XLMRobertaForMaskedLM: ['roberta.pooler.dense.bias', 'roberta.pooler.dense.weight']\n",
      "- This IS expected if you are initializing XLMRobertaForMaskedLM from the checkpoint of a model trained on another task or with another architecture (e.g. initializing a BertForSequenceClassification model from a BertForPreTraining model).\n",
      "- This IS NOT expected if you are initializing XLMRobertaForMaskedLM from the checkpoint of a model that you expect to be exactly identical (initializing a BertForSequenceClassification model from a BertForSequenceClassification model).\n"
     ]
    }
   ],
   "source": [
    "from transformers import AutoTokenizer, XLMRobertaForMaskedLM\n",
    "import torch\n",
    "\n",
    "tokenizer = AutoTokenizer.from_pretrained(\"FacebookAI/xlm-roberta-base\")\n",
    "model = XLMRobertaForMaskedLM.from_pretrained(\"FacebookAI/xlm-roberta-base\")\n",
    "\n",
    "inputs = tokenizer(\"The capital of France is <mask> .\", return_tensors=\"pt\")"
   ]
  },
  {
   "cell_type": "code",
   "execution_count": 34,
   "id": "ba212ab5",
   "metadata": {},
   "outputs": [
    {
     "name": "stdout",
     "output_type": "stream",
     "text": [
      "(tensor([6]),)\n"
     ]
    }
   ],
   "source": [
    "with torch.no_grad():\n",
    "    logits = model(**inputs).logits\n",
    "\n",
    "# retrieve index of <mask>\n",
    "mask_token_indexes = (inputs.input_ids == tokenizer.mask_token_id)[0].nonzero(as_tuple=True)\n",
    "\n",
    "print(mask_token_indexes)"
   ]
  },
  {
   "cell_type": "code",
   "execution_count": 35,
   "id": "f9618836",
   "metadata": {},
   "outputs": [
    {
     "name": "stdout",
     "output_type": "stream",
     "text": [
      "Paris\n"
     ]
    }
   ],
   "source": [
    "\n",
    "for mask_token_index in mask_token_indexes[0]:\n",
    "    predicted_token_id = logits[0, mask_token_index].argmax(axis=-1)\n",
    "    print(tokenizer.decode(predicted_token_id))"
   ]
  }
 ],
 "metadata": {
  "kernelspec": {
   "display_name": "Python 3",
   "language": "python",
   "name": "python3"
  },
  "language_info": {
   "codemirror_mode": {
    "name": "ipython",
    "version": 3
   },
   "file_extension": ".py",
   "mimetype": "text/x-python",
   "name": "python",
   "nbconvert_exporter": "python",
   "pygments_lexer": "ipython3",
   "version": "3.11.7"
  }
 },
 "nbformat": 4,
 "nbformat_minor": 5
}
