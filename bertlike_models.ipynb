{
 "cells": [
  {
   "cell_type": "markdown",
   "metadata": {},
   "source": [
    "# Imports"
   ]
  },
  {
   "cell_type": "code",
   "execution_count": 2,
   "metadata": {},
   "outputs": [
    {
     "name": "stdout",
     "output_type": "stream",
     "text": [
      "Requirement already satisfied: tiktoken in c:\\users\\borah\\appdata\\local\\programs\\python\\python311\\lib\\site-packages (0.9.0)\n",
      "Requirement already satisfied: regex>=2022.1.18 in c:\\users\\borah\\appdata\\local\\programs\\python\\python311\\lib\\site-packages (from tiktoken) (2024.9.11)\n",
      "Requirement already satisfied: requests>=2.26.0 in c:\\users\\borah\\appdata\\local\\programs\\python\\python311\\lib\\site-packages (from tiktoken) (2.32.3)\n",
      "Requirement already satisfied: charset-normalizer<4,>=2 in c:\\users\\borah\\appdata\\local\\programs\\python\\python311\\lib\\site-packages (from requests>=2.26.0->tiktoken) (3.3.2)\n",
      "Requirement already satisfied: idna<4,>=2.5 in c:\\users\\borah\\appdata\\local\\programs\\python\\python311\\lib\\site-packages (from requests>=2.26.0->tiktoken) (3.10)\n",
      "Requirement already satisfied: urllib3<3,>=1.21.1 in c:\\users\\borah\\appdata\\local\\programs\\python\\python311\\lib\\site-packages (from requests>=2.26.0->tiktoken) (1.26.20)\n",
      "Requirement already satisfied: certifi>=2017.4.17 in c:\\users\\borah\\appdata\\local\\programs\\python\\python311\\lib\\site-packages (from requests>=2.26.0->tiktoken) (2024.8.30)\n",
      "Note: you may need to restart the kernel to use updated packages.\n"
     ]
    },
    {
     "name": "stderr",
     "output_type": "stream",
     "text": [
      "\n",
      "[notice] A new release of pip is available: 25.1 -> 25.1.1\n",
      "[notice] To update, run: python.exe -m pip install --upgrade pip\n"
     ]
    },
    {
     "name": "stdout",
     "output_type": "stream",
     "text": [
      "Requirement already satisfied: sentencepiece in c:\\users\\borah\\appdata\\local\\programs\\python\\python311\\lib\\site-packages (0.2.0)\n",
      "Note: you may need to restart the kernel to use updated packages.\n"
     ]
    },
    {
     "name": "stderr",
     "output_type": "stream",
     "text": [
      "\n",
      "[notice] A new release of pip is available: 25.1 -> 25.1.1\n",
      "[notice] To update, run: python.exe -m pip install --upgrade pip\n"
     ]
    },
    {
     "name": "stdout",
     "output_type": "stream",
     "text": [
      "Requirement already satisfied: tensorflow in c:\\users\\borah\\appdata\\local\\programs\\python\\python311\\lib\\site-packages (2.19.0)\n",
      "Requirement already satisfied: absl-py>=1.0.0 in c:\\users\\borah\\appdata\\local\\programs\\python\\python311\\lib\\site-packages (from tensorflow) (2.1.0)\n",
      "Requirement already satisfied: astunparse>=1.6.0 in c:\\users\\borah\\appdata\\local\\programs\\python\\python311\\lib\\site-packages (from tensorflow) (1.6.3)\n",
      "Requirement already satisfied: flatbuffers>=24.3.25 in c:\\users\\borah\\appdata\\local\\programs\\python\\python311\\lib\\site-packages (from tensorflow) (24.3.25)\n",
      "Requirement already satisfied: gast!=0.5.0,!=0.5.1,!=0.5.2,>=0.2.1 in c:\\users\\borah\\appdata\\local\\programs\\python\\python311\\lib\\site-packages (from tensorflow) (0.6.0)\n",
      "Requirement already satisfied: google-pasta>=0.1.1 in c:\\users\\borah\\appdata\\local\\programs\\python\\python311\\lib\\site-packages (from tensorflow) (0.2.0)\n",
      "Requirement already satisfied: libclang>=13.0.0 in c:\\users\\borah\\appdata\\local\\programs\\python\\python311\\lib\\site-packages (from tensorflow) (18.1.1)\n",
      "Requirement already satisfied: opt-einsum>=2.3.2 in c:\\users\\borah\\appdata\\local\\programs\\python\\python311\\lib\\site-packages (from tensorflow) (3.4.0)\n",
      "Requirement already satisfied: packaging in c:\\users\\borah\\appdata\\local\\programs\\python\\python311\\lib\\site-packages (from tensorflow) (24.1)\n",
      "Requirement already satisfied: protobuf!=4.21.0,!=4.21.1,!=4.21.2,!=4.21.3,!=4.21.4,!=4.21.5,<6.0.0dev,>=3.20.3 in c:\\users\\borah\\appdata\\local\\programs\\python\\python311\\lib\\site-packages (from tensorflow) (5.29.1)\n",
      "Requirement already satisfied: requests<3,>=2.21.0 in c:\\users\\borah\\appdata\\local\\programs\\python\\python311\\lib\\site-packages (from tensorflow) (2.32.3)\n",
      "Requirement already satisfied: setuptools in c:\\users\\borah\\appdata\\local\\programs\\python\\python311\\lib\\site-packages (from tensorflow) (65.5.0)\n",
      "Requirement already satisfied: six>=1.12.0 in c:\\users\\borah\\appdata\\local\\programs\\python\\python311\\lib\\site-packages (from tensorflow) (1.16.0)\n",
      "Requirement already satisfied: termcolor>=1.1.0 in c:\\users\\borah\\appdata\\local\\programs\\python\\python311\\lib\\site-packages (from tensorflow) (2.5.0)\n",
      "Requirement already satisfied: typing-extensions>=3.6.6 in c:\\users\\borah\\appdata\\roaming\\python\\python311\\site-packages (from tensorflow) (4.12.2)\n",
      "Requirement already satisfied: wrapt>=1.11.0 in c:\\users\\borah\\appdata\\local\\programs\\python\\python311\\lib\\site-packages (from tensorflow) (1.17.0)\n",
      "Requirement already satisfied: grpcio<2.0,>=1.24.3 in c:\\users\\borah\\appdata\\local\\programs\\python\\python311\\lib\\site-packages (from tensorflow) (1.68.1)\n",
      "Requirement already satisfied: tensorboard~=2.19.0 in c:\\users\\borah\\appdata\\local\\programs\\python\\python311\\lib\\site-packages (from tensorflow) (2.19.0)\n",
      "Requirement already satisfied: keras>=3.5.0 in c:\\users\\borah\\appdata\\local\\programs\\python\\python311\\lib\\site-packages (from tensorflow) (3.7.0)\n",
      "Requirement already satisfied: numpy<2.2.0,>=1.26.0 in c:\\users\\borah\\appdata\\local\\programs\\python\\python311\\lib\\site-packages (from tensorflow) (1.26.4)\n",
      "Requirement already satisfied: h5py>=3.11.0 in c:\\users\\borah\\appdata\\local\\programs\\python\\python311\\lib\\site-packages (from tensorflow) (3.12.1)\n",
      "Requirement already satisfied: ml-dtypes<1.0.0,>=0.5.1 in c:\\users\\borah\\appdata\\local\\programs\\python\\python311\\lib\\site-packages (from tensorflow) (0.5.1)\n",
      "Requirement already satisfied: tensorflow-io-gcs-filesystem>=0.23.1 in c:\\users\\borah\\appdata\\local\\programs\\python\\python311\\lib\\site-packages (from tensorflow) (0.31.0)\n",
      "Requirement already satisfied: charset-normalizer<4,>=2 in c:\\users\\borah\\appdata\\local\\programs\\python\\python311\\lib\\site-packages (from requests<3,>=2.21.0->tensorflow) (3.3.2)\n",
      "Requirement already satisfied: idna<4,>=2.5 in c:\\users\\borah\\appdata\\local\\programs\\python\\python311\\lib\\site-packages (from requests<3,>=2.21.0->tensorflow) (3.10)\n",
      "Requirement already satisfied: urllib3<3,>=1.21.1 in c:\\users\\borah\\appdata\\local\\programs\\python\\python311\\lib\\site-packages (from requests<3,>=2.21.0->tensorflow) (1.26.20)\n",
      "Requirement already satisfied: certifi>=2017.4.17 in c:\\users\\borah\\appdata\\local\\programs\\python\\python311\\lib\\site-packages (from requests<3,>=2.21.0->tensorflow) (2024.8.30)\n",
      "Requirement already satisfied: markdown>=2.6.8 in c:\\users\\borah\\appdata\\local\\programs\\python\\python311\\lib\\site-packages (from tensorboard~=2.19.0->tensorflow) (3.7)\n",
      "Requirement already satisfied: tensorboard-data-server<0.8.0,>=0.7.0 in c:\\users\\borah\\appdata\\local\\programs\\python\\python311\\lib\\site-packages (from tensorboard~=2.19.0->tensorflow) (0.7.2)\n",
      "Requirement already satisfied: werkzeug>=1.0.1 in c:\\users\\borah\\appdata\\local\\programs\\python\\python311\\lib\\site-packages (from tensorboard~=2.19.0->tensorflow) (3.1.3)\n",
      "Requirement already satisfied: wheel<1.0,>=0.23.0 in c:\\users\\borah\\appdata\\local\\programs\\python\\python311\\lib\\site-packages (from astunparse>=1.6.0->tensorflow) (0.45.1)\n",
      "Requirement already satisfied: rich in c:\\users\\borah\\appdata\\local\\programs\\python\\python311\\lib\\site-packages (from keras>=3.5.0->tensorflow) (13.9.4)\n",
      "Requirement already satisfied: namex in c:\\users\\borah\\appdata\\local\\programs\\python\\python311\\lib\\site-packages (from keras>=3.5.0->tensorflow) (0.0.8)\n",
      "Requirement already satisfied: optree in c:\\users\\borah\\appdata\\local\\programs\\python\\python311\\lib\\site-packages (from keras>=3.5.0->tensorflow) (0.13.1)\n",
      "Requirement already satisfied: MarkupSafe>=2.1.1 in c:\\users\\borah\\appdata\\local\\programs\\python\\python311\\lib\\site-packages (from werkzeug>=1.0.1->tensorboard~=2.19.0->tensorflow) (3.0.2)\n",
      "Requirement already satisfied: markdown-it-py>=2.2.0 in c:\\users\\borah\\appdata\\local\\programs\\python\\python311\\lib\\site-packages (from rich->keras>=3.5.0->tensorflow) (3.0.0)\n",
      "Requirement already satisfied: pygments<3.0.0,>=2.13.0 in c:\\users\\borah\\appdata\\roaming\\python\\python311\\site-packages (from rich->keras>=3.5.0->tensorflow) (2.18.0)\n",
      "Requirement already satisfied: mdurl~=0.1 in c:\\users\\borah\\appdata\\local\\programs\\python\\python311\\lib\\site-packages (from markdown-it-py>=2.2.0->rich->keras>=3.5.0->tensorflow) (0.1.2)\n",
      "Note: you may need to restart the kernel to use updated packages.\n"
     ]
    },
    {
     "name": "stderr",
     "output_type": "stream",
     "text": [
      "\n",
      "[notice] A new release of pip is available: 25.1 -> 25.1.1\n",
      "[notice] To update, run: python.exe -m pip install --upgrade pip\n"
     ]
    },
    {
     "name": "stdout",
     "output_type": "stream",
     "text": [
      "Requirement already satisfied: tf_keras in c:\\users\\borah\\appdata\\local\\programs\\python\\python311\\lib\\site-packages (2.19.0)\n",
      "Requirement already satisfied: tensorflow<2.20,>=2.19 in c:\\users\\borah\\appdata\\local\\programs\\python\\python311\\lib\\site-packages (from tf_keras) (2.19.0)\n",
      "Requirement already satisfied: absl-py>=1.0.0 in c:\\users\\borah\\appdata\\local\\programs\\python\\python311\\lib\\site-packages (from tensorflow<2.20,>=2.19->tf_keras) (2.1.0)\n",
      "Requirement already satisfied: astunparse>=1.6.0 in c:\\users\\borah\\appdata\\local\\programs\\python\\python311\\lib\\site-packages (from tensorflow<2.20,>=2.19->tf_keras) (1.6.3)\n",
      "Requirement already satisfied: flatbuffers>=24.3.25 in c:\\users\\borah\\appdata\\local\\programs\\python\\python311\\lib\\site-packages (from tensorflow<2.20,>=2.19->tf_keras) (24.3.25)\n",
      "Requirement already satisfied: gast!=0.5.0,!=0.5.1,!=0.5.2,>=0.2.1 in c:\\users\\borah\\appdata\\local\\programs\\python\\python311\\lib\\site-packages (from tensorflow<2.20,>=2.19->tf_keras) (0.6.0)\n",
      "Requirement already satisfied: google-pasta>=0.1.1 in c:\\users\\borah\\appdata\\local\\programs\\python\\python311\\lib\\site-packages (from tensorflow<2.20,>=2.19->tf_keras) (0.2.0)\n",
      "Requirement already satisfied: libclang>=13.0.0 in c:\\users\\borah\\appdata\\local\\programs\\python\\python311\\lib\\site-packages (from tensorflow<2.20,>=2.19->tf_keras) (18.1.1)\n",
      "Requirement already satisfied: opt-einsum>=2.3.2 in c:\\users\\borah\\appdata\\local\\programs\\python\\python311\\lib\\site-packages (from tensorflow<2.20,>=2.19->tf_keras) (3.4.0)\n",
      "Requirement already satisfied: packaging in c:\\users\\borah\\appdata\\local\\programs\\python\\python311\\lib\\site-packages (from tensorflow<2.20,>=2.19->tf_keras) (24.1)\n",
      "Requirement already satisfied: protobuf!=4.21.0,!=4.21.1,!=4.21.2,!=4.21.3,!=4.21.4,!=4.21.5,<6.0.0dev,>=3.20.3 in c:\\users\\borah\\appdata\\local\\programs\\python\\python311\\lib\\site-packages (from tensorflow<2.20,>=2.19->tf_keras) (5.29.1)\n",
      "Requirement already satisfied: requests<3,>=2.21.0 in c:\\users\\borah\\appdata\\local\\programs\\python\\python311\\lib\\site-packages (from tensorflow<2.20,>=2.19->tf_keras) (2.32.3)\n",
      "Requirement already satisfied: setuptools in c:\\users\\borah\\appdata\\local\\programs\\python\\python311\\lib\\site-packages (from tensorflow<2.20,>=2.19->tf_keras) (65.5.0)\n",
      "Requirement already satisfied: six>=1.12.0 in c:\\users\\borah\\appdata\\local\\programs\\python\\python311\\lib\\site-packages (from tensorflow<2.20,>=2.19->tf_keras) (1.16.0)\n",
      "Requirement already satisfied: termcolor>=1.1.0 in c:\\users\\borah\\appdata\\local\\programs\\python\\python311\\lib\\site-packages (from tensorflow<2.20,>=2.19->tf_keras) (2.5.0)\n",
      "Requirement already satisfied: typing-extensions>=3.6.6 in c:\\users\\borah\\appdata\\roaming\\python\\python311\\site-packages (from tensorflow<2.20,>=2.19->tf_keras) (4.12.2)\n",
      "Requirement already satisfied: wrapt>=1.11.0 in c:\\users\\borah\\appdata\\local\\programs\\python\\python311\\lib\\site-packages (from tensorflow<2.20,>=2.19->tf_keras) (1.17.0)\n",
      "Requirement already satisfied: grpcio<2.0,>=1.24.3 in c:\\users\\borah\\appdata\\local\\programs\\python\\python311\\lib\\site-packages (from tensorflow<2.20,>=2.19->tf_keras) (1.68.1)\n",
      "Requirement already satisfied: tensorboard~=2.19.0 in c:\\users\\borah\\appdata\\local\\programs\\python\\python311\\lib\\site-packages (from tensorflow<2.20,>=2.19->tf_keras) (2.19.0)\n",
      "Requirement already satisfied: keras>=3.5.0 in c:\\users\\borah\\appdata\\local\\programs\\python\\python311\\lib\\site-packages (from tensorflow<2.20,>=2.19->tf_keras) (3.7.0)\n",
      "Requirement already satisfied: numpy<2.2.0,>=1.26.0 in c:\\users\\borah\\appdata\\local\\programs\\python\\python311\\lib\\site-packages (from tensorflow<2.20,>=2.19->tf_keras) (1.26.4)\n",
      "Requirement already satisfied: h5py>=3.11.0 in c:\\users\\borah\\appdata\\local\\programs\\python\\python311\\lib\\site-packages (from tensorflow<2.20,>=2.19->tf_keras) (3.12.1)\n",
      "Requirement already satisfied: ml-dtypes<1.0.0,>=0.5.1 in c:\\users\\borah\\appdata\\local\\programs\\python\\python311\\lib\\site-packages (from tensorflow<2.20,>=2.19->tf_keras) (0.5.1)\n",
      "Requirement already satisfied: tensorflow-io-gcs-filesystem>=0.23.1 in c:\\users\\borah\\appdata\\local\\programs\\python\\python311\\lib\\site-packages (from tensorflow<2.20,>=2.19->tf_keras) (0.31.0)\n",
      "Requirement already satisfied: charset-normalizer<4,>=2 in c:\\users\\borah\\appdata\\local\\programs\\python\\python311\\lib\\site-packages (from requests<3,>=2.21.0->tensorflow<2.20,>=2.19->tf_keras) (3.3.2)\n",
      "Requirement already satisfied: idna<4,>=2.5 in c:\\users\\borah\\appdata\\local\\programs\\python\\python311\\lib\\site-packages (from requests<3,>=2.21.0->tensorflow<2.20,>=2.19->tf_keras) (3.10)\n",
      "Requirement already satisfied: urllib3<3,>=1.21.1 in c:\\users\\borah\\appdata\\local\\programs\\python\\python311\\lib\\site-packages (from requests<3,>=2.21.0->tensorflow<2.20,>=2.19->tf_keras) (1.26.20)\n",
      "Requirement already satisfied: certifi>=2017.4.17 in c:\\users\\borah\\appdata\\local\\programs\\python\\python311\\lib\\site-packages (from requests<3,>=2.21.0->tensorflow<2.20,>=2.19->tf_keras) (2024.8.30)\n",
      "Requirement already satisfied: markdown>=2.6.8 in c:\\users\\borah\\appdata\\local\\programs\\python\\python311\\lib\\site-packages (from tensorboard~=2.19.0->tensorflow<2.20,>=2.19->tf_keras) (3.7)\n",
      "Requirement already satisfied: tensorboard-data-server<0.8.0,>=0.7.0 in c:\\users\\borah\\appdata\\local\\programs\\python\\python311\\lib\\site-packages (from tensorboard~=2.19.0->tensorflow<2.20,>=2.19->tf_keras) (0.7.2)\n",
      "Requirement already satisfied: werkzeug>=1.0.1 in c:\\users\\borah\\appdata\\local\\programs\\python\\python311\\lib\\site-packages (from tensorboard~=2.19.0->tensorflow<2.20,>=2.19->tf_keras) (3.1.3)\n",
      "Requirement already satisfied: wheel<1.0,>=0.23.0 in c:\\users\\borah\\appdata\\local\\programs\\python\\python311\\lib\\site-packages (from astunparse>=1.6.0->tensorflow<2.20,>=2.19->tf_keras) (0.45.1)\n",
      "Requirement already satisfied: rich in c:\\users\\borah\\appdata\\local\\programs\\python\\python311\\lib\\site-packages (from keras>=3.5.0->tensorflow<2.20,>=2.19->tf_keras) (13.9.4)\n",
      "Requirement already satisfied: namex in c:\\users\\borah\\appdata\\local\\programs\\python\\python311\\lib\\site-packages (from keras>=3.5.0->tensorflow<2.20,>=2.19->tf_keras) (0.0.8)\n",
      "Requirement already satisfied: optree in c:\\users\\borah\\appdata\\local\\programs\\python\\python311\\lib\\site-packages (from keras>=3.5.0->tensorflow<2.20,>=2.19->tf_keras) (0.13.1)\n",
      "Requirement already satisfied: MarkupSafe>=2.1.1 in c:\\users\\borah\\appdata\\local\\programs\\python\\python311\\lib\\site-packages (from werkzeug>=1.0.1->tensorboard~=2.19.0->tensorflow<2.20,>=2.19->tf_keras) (3.0.2)\n",
      "Requirement already satisfied: markdown-it-py>=2.2.0 in c:\\users\\borah\\appdata\\local\\programs\\python\\python311\\lib\\site-packages (from rich->keras>=3.5.0->tensorflow<2.20,>=2.19->tf_keras) (3.0.0)\n",
      "Requirement already satisfied: pygments<3.0.0,>=2.13.0 in c:\\users\\borah\\appdata\\roaming\\python\\python311\\site-packages (from rich->keras>=3.5.0->tensorflow<2.20,>=2.19->tf_keras) (2.18.0)\n",
      "Requirement already satisfied: mdurl~=0.1 in c:\\users\\borah\\appdata\\local\\programs\\python\\python311\\lib\\site-packages (from markdown-it-py>=2.2.0->rich->keras>=3.5.0->tensorflow<2.20,>=2.19->tf_keras) (0.1.2)\n",
      "Note: you may need to restart the kernel to use updated packages.\n"
     ]
    },
    {
     "name": "stderr",
     "output_type": "stream",
     "text": [
      "\n",
      "[notice] A new release of pip is available: 25.1 -> 25.1.1\n",
      "[notice] To update, run: python.exe -m pip install --upgrade pip\n"
     ]
    },
    {
     "name": "stdout",
     "output_type": "stream",
     "text": [
      "Requirement already satisfied: transformers in c:\\users\\borah\\appdata\\local\\programs\\python\\python311\\lib\\site-packages (4.51.3)Note: you may need to restart the kernel to use updated packages.\n",
      "\n",
      "Requirement already satisfied: filelock in c:\\users\\borah\\appdata\\local\\programs\\python\\python311\\lib\\site-packages (from transformers) (3.16.1)\n",
      "Requirement already satisfied: huggingface-hub<1.0,>=0.30.0 in c:\\users\\borah\\appdata\\local\\programs\\python\\python311\\lib\\site-packages (from transformers) (0.30.2)\n",
      "Requirement already satisfied: numpy>=1.17 in c:\\users\\borah\\appdata\\local\\programs\\python\\python311\\lib\\site-packages (from transformers) (1.26.4)\n",
      "Requirement already satisfied: packaging>=20.0 in c:\\users\\borah\\appdata\\local\\programs\\python\\python311\\lib\\site-packages (from transformers) (24.1)\n",
      "Requirement already satisfied: pyyaml>=5.1 in c:\\users\\borah\\appdata\\local\\programs\\python\\python311\\lib\\site-packages (from transformers) (6.0.2)\n",
      "Requirement already satisfied: regex!=2019.12.17 in c:\\users\\borah\\appdata\\local\\programs\\python\\python311\\lib\\site-packages (from transformers) (2024.9.11)\n",
      "Requirement already satisfied: requests in c:\\users\\borah\\appdata\\local\\programs\\python\\python311\\lib\\site-packages (from transformers) (2.32.3)\n",
      "Requirement already satisfied: tokenizers<0.22,>=0.21 in c:\\users\\borah\\appdata\\local\\programs\\python\\python311\\lib\\site-packages (from transformers) (0.21.0)\n",
      "Requirement already satisfied: safetensors>=0.4.3 in c:\\users\\borah\\appdata\\local\\programs\\python\\python311\\lib\\site-packages (from transformers) (0.4.5)\n",
      "Requirement already satisfied: tqdm>=4.27 in c:\\users\\borah\\appdata\\local\\programs\\python\\python311\\lib\\site-packages (from transformers) (4.66.5)\n",
      "Requirement already satisfied: fsspec>=2023.5.0 in c:\\users\\borah\\appdata\\local\\programs\\python\\python311\\lib\\site-packages (from huggingface-hub<1.0,>=0.30.0->transformers) (2024.6.1)\n",
      "Requirement already satisfied: typing-extensions>=3.7.4.3 in c:\\users\\borah\\appdata\\roaming\\python\\python311\\site-packages (from huggingface-hub<1.0,>=0.30.0->transformers) (4.12.2)\n",
      "Requirement already satisfied: colorama in c:\\users\\borah\\appdata\\roaming\\python\\python311\\site-packages (from tqdm>=4.27->transformers) (0.4.6)\n",
      "Requirement already satisfied: charset-normalizer<4,>=2 in c:\\users\\borah\\appdata\\local\\programs\\python\\python311\\lib\\site-packages (from requests->transformers) (3.3.2)\n",
      "Requirement already satisfied: idna<4,>=2.5 in c:\\users\\borah\\appdata\\local\\programs\\python\\python311\\lib\\site-packages (from requests->transformers) (3.10)\n",
      "Requirement already satisfied: urllib3<3,>=1.21.1 in c:\\users\\borah\\appdata\\local\\programs\\python\\python311\\lib\\site-packages (from requests->transformers) (1.26.20)\n",
      "Requirement already satisfied: certifi>=2017.4.17 in c:\\users\\borah\\appdata\\local\\programs\\python\\python311\\lib\\site-packages (from requests->transformers) (2024.8.30)\n"
     ]
    },
    {
     "name": "stderr",
     "output_type": "stream",
     "text": [
      "\n",
      "[notice] A new release of pip is available: 25.1 -> 25.1.1\n",
      "[notice] To update, run: python.exe -m pip install --upgrade pip\n"
     ]
    },
    {
     "name": "stdout",
     "output_type": "stream",
     "text": [
      "Note: you may need to restart the kernel to use updated packages.\n"
     ]
    },
    {
     "name": "stderr",
     "output_type": "stream",
     "text": [
      "\n",
      "[notice] A new release of pip is available: 25.1 -> 25.1.1\n",
      "[notice] To update, run: python.exe -m pip install --upgrade pip\n",
      "ERROR: Invalid requirement: '#': Expected package name at the start of dependency specifier\n",
      "    #\n",
      "    ^\n"
     ]
    },
    {
     "name": "stdout",
     "output_type": "stream",
     "text": [
      "Requirement already satisfied: minicons in c:\\users\\borah\\appdata\\local\\programs\\python\\python311\\lib\\site-packages (0.3.31)Note: you may need to restart the kernel to use updated packages.\n"
     ]
    },
    {
     "name": "stderr",
     "output_type": "stream",
     "text": [
      "\n",
      "[notice] A new release of pip is available: 25.1 -> 25.1.1\n",
      "[notice] To update, run: python.exe -m pip install --upgrade pip\n"
     ]
    },
    {
     "name": "stdout",
     "output_type": "stream",
     "text": [
      "\n",
      "Requirement already satisfied: accelerate>=0.25.0 in c:\\users\\borah\\appdata\\local\\programs\\python\\python311\\lib\\site-packages (from minicons) (1.6.0)\n",
      "Requirement already satisfied: pandas==2.2.0 in c:\\users\\borah\\appdata\\local\\programs\\python\\python311\\lib\\site-packages (from minicons) (2.2.0)\n",
      "Requirement already satisfied: pillow<11.0.0,>=10.2.0 in c:\\users\\borah\\appdata\\local\\programs\\python\\python311\\lib\\site-packages (from minicons) (10.4.0)\n",
      "Requirement already satisfied: tenacity<9.0.0,>=8.2.3 in c:\\users\\borah\\appdata\\local\\programs\\python\\python311\\lib\\site-packages (from minicons) (8.5.0)\n",
      "Requirement already satisfied: torch<3.0.0,>=2.0.0 in c:\\users\\borah\\appdata\\local\\programs\\python\\python311\\lib\\site-packages (from minicons) (2.5.1)\n",
      "Requirement already satisfied: transformers<5.0,>=4.48 in c:\\users\\borah\\appdata\\local\\programs\\python\\python311\\lib\\site-packages (from minicons) (4.51.3)\n",
      "Requirement already satisfied: urllib3<2.0.0,>=1.26.7 in c:\\users\\borah\\appdata\\local\\programs\\python\\python311\\lib\\site-packages (from minicons) (1.26.20)\n",
      "Requirement already satisfied: wonderwords<3.0.0,>=2.2.0 in c:\\users\\borah\\appdata\\local\\programs\\python\\python311\\lib\\site-packages (from minicons) (2.2.0)\n",
      "Requirement already satisfied: numpy<2,>=1.23.2 in c:\\users\\borah\\appdata\\local\\programs\\python\\python311\\lib\\site-packages (from pandas==2.2.0->minicons) (1.26.4)\n",
      "Requirement already satisfied: python-dateutil>=2.8.2 in c:\\users\\borah\\appdata\\local\\programs\\python\\python311\\lib\\site-packages (from pandas==2.2.0->minicons) (2.9.0.post0)\n",
      "Requirement already satisfied: pytz>=2020.1 in c:\\users\\borah\\appdata\\local\\programs\\python\\python311\\lib\\site-packages (from pandas==2.2.0->minicons) (2024.1)\n",
      "Requirement already satisfied: tzdata>=2022.7 in c:\\users\\borah\\appdata\\local\\programs\\python\\python311\\lib\\site-packages (from pandas==2.2.0->minicons) (2024.1)\n",
      "Requirement already satisfied: filelock in c:\\users\\borah\\appdata\\local\\programs\\python\\python311\\lib\\site-packages (from torch<3.0.0,>=2.0.0->minicons) (3.16.1)\n",
      "Requirement already satisfied: typing-extensions>=4.8.0 in c:\\users\\borah\\appdata\\roaming\\python\\python311\\site-packages (from torch<3.0.0,>=2.0.0->minicons) (4.12.2)\n",
      "Requirement already satisfied: networkx in c:\\users\\borah\\appdata\\local\\programs\\python\\python311\\lib\\site-packages (from torch<3.0.0,>=2.0.0->minicons) (3.4.2)\n",
      "Requirement already satisfied: jinja2 in c:\\users\\borah\\appdata\\local\\programs\\python\\python311\\lib\\site-packages (from torch<3.0.0,>=2.0.0->minicons) (3.1.4)\n",
      "Requirement already satisfied: fsspec in c:\\users\\borah\\appdata\\local\\programs\\python\\python311\\lib\\site-packages (from torch<3.0.0,>=2.0.0->minicons) (2024.6.1)\n",
      "Requirement already satisfied: sympy==1.13.1 in c:\\users\\borah\\appdata\\local\\programs\\python\\python311\\lib\\site-packages (from torch<3.0.0,>=2.0.0->minicons) (1.13.1)\n",
      "Requirement already satisfied: mpmath<1.4,>=1.1.0 in c:\\users\\borah\\appdata\\local\\programs\\python\\python311\\lib\\site-packages (from sympy==1.13.1->torch<3.0.0,>=2.0.0->minicons) (1.3.0)\n",
      "Requirement already satisfied: huggingface-hub<1.0,>=0.30.0 in c:\\users\\borah\\appdata\\local\\programs\\python\\python311\\lib\\site-packages (from transformers<5.0,>=4.48->minicons) (0.30.2)\n",
      "Requirement already satisfied: packaging>=20.0 in c:\\users\\borah\\appdata\\local\\programs\\python\\python311\\lib\\site-packages (from transformers<5.0,>=4.48->minicons) (24.1)\n",
      "Requirement already satisfied: pyyaml>=5.1 in c:\\users\\borah\\appdata\\local\\programs\\python\\python311\\lib\\site-packages (from transformers<5.0,>=4.48->minicons) (6.0.2)\n",
      "Requirement already satisfied: regex!=2019.12.17 in c:\\users\\borah\\appdata\\local\\programs\\python\\python311\\lib\\site-packages (from transformers<5.0,>=4.48->minicons) (2024.9.11)\n",
      "Requirement already satisfied: requests in c:\\users\\borah\\appdata\\local\\programs\\python\\python311\\lib\\site-packages (from transformers<5.0,>=4.48->minicons) (2.32.3)\n",
      "Requirement already satisfied: tokenizers<0.22,>=0.21 in c:\\users\\borah\\appdata\\local\\programs\\python\\python311\\lib\\site-packages (from transformers<5.0,>=4.48->minicons) (0.21.0)\n",
      "Requirement already satisfied: safetensors>=0.4.3 in c:\\users\\borah\\appdata\\local\\programs\\python\\python311\\lib\\site-packages (from transformers<5.0,>=4.48->minicons) (0.4.5)\n",
      "Requirement already satisfied: tqdm>=4.27 in c:\\users\\borah\\appdata\\local\\programs\\python\\python311\\lib\\site-packages (from transformers<5.0,>=4.48->minicons) (4.66.5)\n",
      "Requirement already satisfied: psutil in c:\\users\\borah\\appdata\\roaming\\python\\python311\\site-packages (from accelerate>=0.25.0->minicons) (6.0.0)\n",
      "Requirement already satisfied: six>=1.5 in c:\\users\\borah\\appdata\\local\\programs\\python\\python311\\lib\\site-packages (from python-dateutil>=2.8.2->pandas==2.2.0->minicons) (1.16.0)\n",
      "Requirement already satisfied: colorama in c:\\users\\borah\\appdata\\roaming\\python\\python311\\site-packages (from tqdm>=4.27->transformers<5.0,>=4.48->minicons) (0.4.6)\n",
      "Requirement already satisfied: MarkupSafe>=2.0 in c:\\users\\borah\\appdata\\local\\programs\\python\\python311\\lib\\site-packages (from jinja2->torch<3.0.0,>=2.0.0->minicons) (3.0.2)\n",
      "Requirement already satisfied: charset-normalizer<4,>=2 in c:\\users\\borah\\appdata\\local\\programs\\python\\python311\\lib\\site-packages (from requests->transformers<5.0,>=4.48->minicons) (3.3.2)\n",
      "Requirement already satisfied: idna<4,>=2.5 in c:\\users\\borah\\appdata\\local\\programs\\python\\python311\\lib\\site-packages (from requests->transformers<5.0,>=4.48->minicons) (3.10)\n",
      "Requirement already satisfied: certifi>=2017.4.17 in c:\\users\\borah\\appdata\\local\\programs\\python\\python311\\lib\\site-packages (from requests->transformers<5.0,>=4.48->minicons) (2024.8.30)\n"
     ]
    }
   ],
   "source": [
    "%pip install --upgrade tiktoken\n",
    "%pip install --upgrade sentencepiece\n",
    "%pip install --upgrade tensorflow\n",
    "%pip install --upgrade tf_keras\n",
    "%pip install --upgrade transformers\n",
    "%pip install ml_dtypes==0.5.1 # it appears some code does not work if I don't downgrade this library\n",
    "%pip install --upgrade minicons"
   ]
  },
  {
   "cell_type": "code",
   "execution_count": 3,
   "metadata": {},
   "outputs": [
    {
     "name": "stderr",
     "output_type": "stream",
     "text": [
      "c:\\Users\\borah\\AppData\\Local\\Programs\\Python\\Python311\\Lib\\site-packages\\tqdm\\auto.py:21: TqdmWarning: IProgress not found. Please update jupyter and ipywidgets. See https://ipywidgets.readthedocs.io/en/stable/user_install.html\n",
      "  from .autonotebook import tqdm as notebook_tqdm\n"
     ]
    }
   ],
   "source": [
    "#import tensorflow\n",
    "#import pandas as pd\n",
    "import numpy as np\n",
    "#from transformers import pipeline\n",
    "#from transformers import AutoTokenizer, AutoModelForMaskedLM, AutoModel\n",
    "#import torch\n",
    "import huggingface_hub as hgh\n",
    "from minicons import scorer\n",
    "import operator"
   ]
  },
  {
   "cell_type": "markdown",
   "metadata": {},
   "source": [
    "# Login (for HuggingFace)"
   ]
  },
  {
   "cell_type": "code",
   "execution_count": 4,
   "metadata": {},
   "outputs": [],
   "source": [
    "login_token_file = open(\"access_items/hg_token.txt\", \"r\")\n",
    "token = login_token_file.readline()\n",
    "login_token_file.close()\n",
    "hgh.login(token)"
   ]
  },
  {
   "cell_type": "markdown",
   "metadata": {},
   "source": [
    "# Loading data for testing"
   ]
  },
  {
   "cell_type": "code",
   "execution_count": 5,
   "metadata": {},
   "outputs": [],
   "source": [
    "def load_sentences(filename):\n",
    "    \"\"\"Loads sentences from a file formatted as: \n",
    "    context,translation\n",
    "        completion1,translation,is_grammatical\n",
    "        completion2,translation,is_grammatical\n",
    "        ...\n",
    "    \"\"\"\n",
    "    out = dict()\n",
    "    with open(filename, \"r\", encoding=\"utf-8\") as file:\n",
    "        cur_header = None\n",
    "        blank_index = int(1)\n",
    "        for raw_line in file:\n",
    "            if (raw_line.lstrip().startswith(\"#\")):\n",
    "                continue\n",
    "            if (len(raw_line.strip()) == 0):\n",
    "                continue\n",
    "            line = raw_line.rstrip()\n",
    "            if (line == \"\\\\nil\"):\n",
    "                cur_header = blank_index\n",
    "                out[blank_index] = []\n",
    "                blank_index += 1\n",
    "            elif line.startswith(\"\\t\") or line.startswith(\" \"*4):\n",
    "                if not cur_header:\n",
    "                    raise Exception(f\"File '{filename}' in incorrect format at line {line}.\")\n",
    "                out[cur_header].append(tuple(line.lstrip().split(\"::\")))\n",
    "            else:\n",
    "                translation_pair = tuple(line.split(\"::\"))\n",
    "                out[translation_pair] = []\n",
    "                cur_header = translation_pair\n",
    "    return out"
   ]
  },
  {
   "cell_type": "code",
   "execution_count": 6,
   "metadata": {},
   "outputs": [
    {
     "name": "stdout",
     "output_type": "stream",
     "text": [
      "{('এজন ল’ৰা আৰু এজনী ছোৱালী এটা কোঠাটোলৈ সোমাই গ’ল।', 'A boy and a girl entered a room.'): [('ল’ৰাজন বহিলে।', 'The boy sat down.', '1'), ('এজন ল’ৰা বহিলে।', 'A boy sat down.', '0')], ('টেবুলখনত দুটা মেকুৰী বহি আছে।', 'There are two cats sitting on the table.'): [('এটা মেকুৰী তললৈ জপিয়াই পৰে।', 'One cat jumps down.', '1'), ('মেকুৰীটোৱে তললৈ জপিয়াই পৰে।', 'The cat jumps down.', '0')], ('দুজন মানুহে কথা পাতি আছিলে।', 'Two men were talking.'): [('এজন মানুহে গান গাবলৈ ধৰিলে।', 'One man started to sing.', '1'), ('মানুহজনে গান গাবলৈ ধৰিলে।', 'The man started to sing.', '0')], ('দুটা কেক আৰু দুটা কুকিজ।', 'I bought two cakes and two cookies.'): [('কুকিজ দুটা পিছত খাম।', \"I'll eat the two cookies later.\", '1'), ('দুটা কুকিজ পিছত খাম।', \"I'll eat two cookies later.\", '0')], ('কুকুৰটোৰ চাৰিটা পোৱালি আছিলে', 'The dog has four puppies'): [('কিন্তু দুটা পোৱালি মৰিলে।', 'but two puppies died.', '1'), ('কিন্তু পোৱালি দুটা মৰিলে।', 'but the two puppies died.', '0')], 1: [('সূৰ্য্যতুই পোহৰ দিয়ে।', 'The sun gives light.', '1'), ('এটা সূৰ্য্যই পোহৰ দিয়ে।', 'A sun gives light.', '0')], ('আকাশত চাৰিটা বিমান আছে।', 'There are four planes in the sky.'): [('নাই, তিনিখন বিমান আছে।', 'No, there are three planes.', '1'), ('নাই, বিমান তিনিখন আছে।', 'No, there are the three planes.', '0')], ('এজন ৰজা আৰু এগৰাকী ৰাণী এটা কোঠাটোলৈ সোমাই গ’ল।', 'A king and a queen entered a room.'): [('ৰাণীগৰাকী বহিলে।', 'The queen sat down.', '1'), ('এগৰাকী ৰাণী বহিলে।', 'A queen sat down.', '0')], (\"বিচনাত তিনিটা ল'ৰা শুই আছে।\", 'There are three boys sleeping in the bed.'): [('দুটা ল’ৰা সাৰ পায়।', 'Two boys wake up.', '1'), ('ল’ৰা দুটা সাৰ পায়।', 'The two boys wake up.', '0')], ('তিনিজনী ছোৱালী কথা পাতি আছিলে।', 'Three girls were talking.'): [('দুজনী ছোৱালীয়ে হাঁহিবলৈ ধৰিলে।', 'Two girls started laughing.', '1'), ('ছোৱালী দুজনীয়ে হাঁহিবলৈ ধৰিলে।', 'The two girls started laughing.', '0')], ('তিনিটা কেক আৰু তিনিটা কুকিজ।', 'I bought three cakes and three cookies.'): [('কুকিজ তিনিটা পিছত খাম।', \"I'll eat the three cookies later.\", '1'), ('তিনিটা কুকিজ পিছত খাম।', \"I'll eat three cookies later.\", '0')], ('মেকুৰীটোৰ চাৰিটা মাইকী পোৱালি আৰু দুটা মতা পোৱালি আছিলে', 'The cat has four female kittens and two male kittens'): [('কিন্তু মতা পোৱালি দুটা মৰিলে।', 'but the two male kittens died.', '1'), ('কিন্তু দুটা মতা পোৱালি মৰিলে।', 'but two male kittens died.', '0')], 2: [('পৃথিৱীখন কিছু ধুনীয়া।', 'The Earth is so beautiful.', '1'), ('এখন পৃথিৱী কিছু ধুনীয়া।', 'An Earth is so beautiful.', '0')], ('মোৰ পাঁচটা আপেল আছে।', 'I have five apples.'): [('নাই, তোমাৰ তিনিটা আপেল আছে।', 'No, you have three apples.', '1'), ('নাই, তিনিটা তোমাৰ আপেল আছে।', 'No, you have the three apples.', '0')]}\n",
      "{1: [('টেবুলখনত দুটা মেকুৰী আছে।', 'There are two cats on the (preferred classifier) table.', '1'), ('টেবুলজনত দুটা মেকুৰী আছে।', 'There are two cats on the (incorrect classifier) table.', '0')], 2: [('লাঠিডাল দলিয়াই দিয়া।', 'Throw the stick (preferred classifier).', '1'), ('লাঠিখন দলিয়াই দিয়া।', 'Throw the stick (incorrect classifier).', '0')], 3: [('গছজোপা ইমান ওখ।', 'The tree is so tall (preferred classifier).', '1'), ('গছখন ইমান ওখ।', 'The tree is so tall (incorrect classifier).', '0')], 4: [('মোৰ দুটা কমলা আছে।', 'I have two oranges (preferred/default classifier).', '1'), ('মোৰ দুখন কমলা আছে।', 'I have two oranges (incorrect classifier).', '0')], 5: [('ব্ৰিটেইনৰ ৰাণী এগৰাকী আছে।', 'Britain has a queen (preferred classifier).', '1'), ('ব্ৰিটেইনৰ ৰাণী এখন আছে।', 'Britain has a queen (incorrect classifier).', '0')], 6: [('ব্ৰিটেইনৰ এগৰাকী ৰাণী আছে।', 'Britain has one queen (preferred classifier).', '1'), ('ব্ৰিটেইনৰ এখন ৰাণী আছে।', 'Britain has one queen (incorrect classifier).', '0')], ('মোৰ হাতত দুখন কাগজ আছে।', 'I have two papers (in my hand).'): [('মই তোমাক এখন দিম।', 'I will give you one (preferred classifier).', '1'), ('মই তোমাক এজোপা দিম।', 'I will give you one (incorrect classifier).', '0')], ('প্লেটখনত দুটা আপেল আছে।', 'There are two apples on the plate.'): [('মোক ডাঙৰটো দিয়া।', 'Give the big one to me (preferred/default classifier).', '1'), ('মোক ডাঙৰখন দিয়া।', 'Give the big one to me (incorrect classifier).', '0')], ('দুখন গাড়ী বেচি আছে।', 'They are selling two cars.'): [('সেইখন কিনা।', 'Buy that one (preferred classifier).', '1'), ('সেইজন কিনা।', 'Buy that one (incorrect classifier).', '0')], 7: [('টেবুলখনত দুটা মেকুৰী আছে।', 'There are two (preferred/default classifier) cats on the table.', '1'), ('টেবুলখনত দুখন মেকুৰী আছে।', 'There are two (incorrect classifier) cats on the table.', '0')], 8: [('বলটো দলিয়াই দিয়া।', 'Throw the ball (preferred/default classifier).', '1'), ('বলডাল দলিয়াই দিয়া।', 'Throw the ball (incorrect classifier).', '0')], 9: [('ৰাস্তাটো ইমান লম্বা।', 'The road is so long (preferred/default classifier).', '1'), ('ৰাস্তাজোপা ইমান লম্বা।', 'The road is so long (incorrect classifier).', '0')], 10: [('কেঁচিপাত আনি দিয়া।', 'Bring the scissors (preferred classifier).', '1'), ('কেঁচিজন আনি দিয়া।', 'Bring the scissors (incorrect classifier).', '0')], 11: [('ব্ৰিটেইনত চাৰিখন দেশ আছে।', 'Britain has four countries (preferred classifier).', '1'), ('ব্ৰিটেইনত চাৰিপাত দেশ আছে।', 'Britain has four countries (incorrect classifier).', '0')], ('মোৰ হাতত তিনিটা কল আছে।', 'I have three bananas (in my hand).'): [('মই তোমাক দুটা দিম।', 'I will give you two (preferred classifier).', '1'), ('মই তোমাক দুখন দিম।', 'I will give you two (incorrect classifier).', '0')], ('টেবুলখনত তিনিটা কলম আছে।', 'There are three pens on the table.'): [('ৰঙাটো দিয়া।', 'Give the red one to me (preferred/default classifier).', '1'), ('ৰঙাজোপা দিয়া।', 'Give the red one to me (incorrect classifier).', '0')], ('তেওঁলোকৰ মেকুৰী বা কুকুৰ আছে নে?', 'Do they have cats or dogs?'): [('এইজনীৰ এটা কুকুৰ আছে।', 'This one (girl, preferred classifier) has a dog.', '1'), ('এইখনৰ এটা কুকুৰ আছে।', 'This one (incorrect classifier) has a dog.', '0')]}\n"
     ]
    }
   ],
   "source": [
    "## the sentence sets for English (just to test as control)\n",
    "english_contextual_sentences = {\n",
    "    (\"A boy and a girl walked into the classroom.\",)*2 : [(\"A boy sat down.\",)*2, (\"The boy sat down.\",)*2],\n",
    "    (\"I am expecting a student to come to class today.\",)*2 : [(\"Has a student arrived?\",)*2, (\"Has the student arrived?\",)*2],\n",
    "    (\"There once was a massive tree in the forest.\",)*2 : [(\"A tree fell down.\",)*2, (\"The tree fell down.\",)*2],\n",
    "    (\"Two men were talking.\",)*2 : [(\"The man said a joke.\",)*2, (\"One man said a joke.\",)*2]\n",
    "}\n",
    "\n",
    "## load in assamese sentence sets\n",
    "assamese_contextual_sentences = load_sentences(\"test_sentences/assamese.txt\")\n",
    "assamese_contextual_cls_sentences = load_sentences(\"test_sentences/assamese_classifiers.txt\")\n",
    "print(assamese_contextual_sentences)\n",
    "print(assamese_contextual_cls_sentences)"
   ]
  },
  {
   "cell_type": "code",
   "execution_count": 7,
   "metadata": {},
   "outputs": [
    {
     "name": "stdout",
     "output_type": "stream",
     "text": [
      "Length(CLS):34, Length(DEF):28\n"
     ]
    }
   ],
   "source": [
    "classifier_sent_count = sum([len(val) for (_, val) in assamese_contextual_cls_sentences.items()])\n",
    "definiteness_sent_count = sum([len(val) for (_, val) in assamese_contextual_sentences.items()])\n",
    "print(f\"Length(CLS):{classifier_sent_count}, Length(DEF):{definiteness_sent_count}\")"
   ]
  },
  {
   "cell_type": "markdown",
   "metadata": {},
   "source": [
    "(Citations)\n",
    "\n",
    "* (<em>AxomiyaBERTa</em>) [AxomiyaBERTa: A Phonologically-aware Transformer Model for Assamese](https://aclanthology.org/2023.findings-acl.739/) (Nath et al., Findings 2023) \n",
    "\n",
    "* (<em>IndicBERT</em>) [IndicNLPSuite: Monolingual Corpora, Evaluation Benchmarks and Pre-trained Multilingual Language Models for Indian Languages](https://aclanthology.org/2020.findings-emnlp.445/) (Kakwani et al., Findings 2020)\n",
    "\n",
    "* (<em>XLM-R</em>) [Unsupervised Cross-lingual Representation Learning at Scale](https://aclanthology.org/2020.acl-main.747/) (Conneau et al., ACL 2020)\n"
   ]
  },
  {
   "cell_type": "code",
   "execution_count": 15,
   "metadata": {},
   "outputs": [
    {
     "name": "stdout",
     "output_type": "stream",
     "text": [
      "Now doing: definiteness\n",
      "Loading model \"AxomiyaBERTa\".\n",
      "Loading model \"IndicBERT\".\n",
      "Loading model \"XLM-R\".\n",
      "Now doing: classifiers\n",
      "Loading model \"AxomiyaBERTa\".\n",
      "Loading model \"IndicBERT\".\n",
      "Loading model \"XLM-R\".\n"
     ]
    }
   ],
   "source": [
    "# all models we will use\n",
    "all_models = {  \"AxomiyaBERTa\" : \"Abhijnan/AxomiyaBERTa\", #\n",
    "                \"IndicBERT\" : \"ai4bharat/indic-bert\",\n",
    "                \"XLM-R\" : \"FacebookAI/xlm-roberta-base\"}\n",
    "\n",
    "# average surprisal for sections\n",
    "average_surprisal = {\"definiteness\": {}, \"classifiers\": {}}\n",
    "# average surprisal for incorrect sentences in surprisals\n",
    "average_surprisal_incor = {\"definiteness\": {}, \"classifiers\": {}}\n",
    "\n",
    "# average relative change for sections\n",
    "surpavrat = {\"definiteness\": {}, \"classifiers\": {}}\n",
    "\n",
    "for subexp, language_documents in ((\"definiteness\",assamese_contextual_sentences), \n",
    "                                   (\"classifiers\",assamese_contextual_cls_sentences)):\n",
    "    \n",
    "    print(f\"Now doing: {subexp}\")\n",
    "    # average relative change for this model\n",
    "    surprisal_avg_rats = surpavrat[subexp]\n",
    "    \n",
    "    # average surprisal of correct answers generally for this model\n",
    "    avg_surprisal = average_surprisal[subexp]\n",
    "    # average surprisal of incorrect answers generally for this model\n",
    "    avg_surprisal_incor = average_surprisal_incor[subexp]\n",
    "\n",
    "    # iterate thorugh models\n",
    "    for (model_name, model_path) in all_models.items():\n",
    "        print(f'Loading model \"{model_name}\".')\n",
    "\n",
    "        # use minicons scorer for surprisal\n",
    "        scorer_model = scorer.MaskedLMScorer(model_path, \"cpu\")\n",
    "\n",
    "        # number of contexts with the sentence that has min surprisal being the most grammatically correct option \n",
    "        surprisal_ratios = 0\n",
    "        average_surprisal_vals = 0\n",
    "        average_surprisal_vals_incor = 0\n",
    "\n",
    "        # get each set of sentences with their context\n",
    "        for (context, sentences) in language_documents.items():\n",
    "\n",
    "            context_blank = None \n",
    "            if (type(context) != tuple): # check if our context is supposed to be blank\n",
    "                context = (\"(no context)\", f\"({context})\")\n",
    "                context_blank = context\n",
    "            \n",
    "            #print(f'  Context sentence: \\\"{context[0]}\\\" (translation:\\\"{context[1]}\\\")')\n",
    "\n",
    "            # list of (sentence, translation, 1 or 0)\n",
    "            ctxt_sents_transes_nums = [(context, sent_trans_num) for sent_trans_num in sentences]\n",
    "\n",
    "            # conjoin sentence of context with completion \n",
    "            # (the models don't seem to support sequencing surprisal \n",
    "            # so we will just concatenate the sentences together directly, unless context is '\\nil')\n",
    "            documents_for_model = [((\"\" if context_blank else (ctxt[0] + \" \")) + s_t_r[0]) for (ctxt, s_t_r) in ctxt_sents_transes_nums]\n",
    "\n",
    "            # get surprisal values\n",
    "            output = scorer_model.sequence_score(documents_for_model, reduction = lambda x: -x.sum(0).item())\n",
    "\n",
    "            # put the sentences and their surprisals in a dictionary\n",
    "            # dict of {(sent, trans) : output}\n",
    "            s_t_output_dict = (dict(zip([(s_t_r[0],s_t_r[1]) for (c, s_t_r) in ctxt_sents_transes_nums], output)))\n",
    "            #print(\"\\t> Surprisal values for each sentence (alongside translations)=\\n\\t\\t\" + '\\n\\t\\t'.join([f\"'{sent}' (trans:'{trans}'): {surp}\" for ((sent, trans), surp) in surprisal_dict.items()]))\n",
    "            \n",
    "            # sentence which should be correct\n",
    "            correct_s_t = max([s for (c, s) in ctxt_sents_transes_nums], key=operator.itemgetter(2))[0:2]\n",
    "\n",
    "            # sentence which should be incorrect\n",
    "            incorrect_s_t = min([s for (c, s) in ctxt_sents_transes_nums], key=operator.itemgetter(2))[0:2]\n",
    "\n",
    "            # get the sentence that got the minimum surprisal in this context\n",
    "            #min_surprisal_st = min(s_t_output_dict.items(), key=operator.itemgetter(1))[0]\n",
    "            #print(f\"\\t> Sentence with minimum surprisal for this context={min_surprisal_st} ({s_t_output_dict[min_surprisal_st]})\")\n",
    "            \n",
    "            # get which completion we expected to get minimum surprisal (i.e. the \"most correct\" one)\n",
    "            #print(f\"\\t> Sentence expected to have min surprisal={correct_s_t} ({s_t_output_dict[correct_s_t]})\")\n",
    "            \n",
    "            # add it to the count\n",
    "            cor_surp = s_t_output_dict[correct_s_t]\n",
    "            incor_surp = s_t_output_dict[incorrect_s_t]\n",
    "            average_surprisal_vals += cor_surp\n",
    "            average_surprisal_vals_incor += incor_surp\n",
    "            surprisal_ratios += (incor_surp - cor_surp) / ((cor_surp + incor_surp)/2)\n",
    "            #print(f\" {cor_surp} for correct, {incor_surp} for incorrect, rel_change = {(incor_surp - cor_surp) / ((cor_surp + incor_surp)/2)}\")\n",
    "        \n",
    "        # store proportion of \"correct values\"\n",
    "        surprisal_avg_rats[model_name] = surprisal_ratios / len(language_documents)\n",
    "        avg_surprisal[model_name] = average_surprisal_vals / len(language_documents)\n",
    "        avg_surprisal_incor[model_name] = average_surprisal_vals_incor / len(language_documents)"
   ]
  },
  {
   "cell_type": "code",
   "execution_count": 9,
   "metadata": {},
   "outputs": [
    {
     "name": "stdout",
     "output_type": "stream",
     "text": [
      "{'definiteness': {'AxomiyaBERTa': 0.00324125829327274, 'IndicBERT': 0.006940457866722931, 'XLM-R': -0.02022868300417183}, 'classifiers': {'AxomiyaBERTa': 0.030260501309888686, 'IndicBERT': 0.002088649027089393, 'XLM-R': 0.06193068581282691}}\n"
     ]
    }
   ],
   "source": [
    "# print out the proportion of correct minimum surprisals\n",
    "print(surpavrat)"
   ]
  },
  {
   "cell_type": "code",
   "execution_count": 17,
   "metadata": {},
   "outputs": [
    {
     "name": "stdout",
     "output_type": "stream",
     "text": [
      "{'definiteness': {'AxomiyaBERTa': 206.16879163469588, 'IndicBERT': 97.46234893798828, 'XLM-R': 44.38074248177664}, 'classifiers': {'AxomiyaBERTa': 125.08082266414867, 'IndicBERT': 87.94368474623737, 'XLM-R': 38.93951404795927}}\n",
      "{'definiteness': {'AxomiyaBERTa': 205.61591175624304, 'IndicBERT': 97.74071012224469, 'XLM-R': 43.72855595179966}, 'classifiers': {'AxomiyaBERTa': 127.80340800565831, 'IndicBERT': 88.00826532700482, 'XLM-R': 41.2108814015108}}\n"
     ]
    }
   ],
   "source": [
    "print(average_surprisal)\n",
    "print(average_surprisal_incor)"
   ]
  }
 ],
 "metadata": {
  "kernelspec": {
   "display_name": "Python 3",
   "language": "python",
   "name": "python3"
  },
  "language_info": {
   "codemirror_mode": {
    "name": "ipython",
    "version": 3
   },
   "file_extension": ".py",
   "mimetype": "text/x-python",
   "name": "python",
   "nbconvert_exporter": "python",
   "pygments_lexer": "ipython3",
   "version": "3.11.7"
  }
 },
 "nbformat": 4,
 "nbformat_minor": 2
}
